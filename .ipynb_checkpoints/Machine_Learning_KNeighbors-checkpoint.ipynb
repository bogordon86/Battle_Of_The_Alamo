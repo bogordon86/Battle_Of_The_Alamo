{
 "cells": [
  {
   "cell_type": "code",
   "execution_count": 44,
   "metadata": {
    "collapsed": true
   },
   "outputs": [],
   "source": [
    "#Import my dependencies\n",
    "import numpy as np\n",
    "import matplotlib.pyplot as plt\n",
    "import pandas as pd\n"
   ]
  },
  {
   "cell_type": "code",
   "execution_count": 45,
   "metadata": {},
   "outputs": [
    {
     "data": {
      "text/html": [
       "<div>\n",
       "<style scoped>\n",
       "    .dataframe tbody tr th:only-of-type {\n",
       "        vertical-align: middle;\n",
       "    }\n",
       "\n",
       "    .dataframe tbody tr th {\n",
       "        vertical-align: top;\n",
       "    }\n",
       "\n",
       "    .dataframe thead th {\n",
       "        text-align: right;\n",
       "    }\n",
       "</style>\n",
       "<table border=\"1\" class=\"dataframe\">\n",
       "  <thead>\n",
       "    <tr style=\"text-align: right;\">\n",
       "      <th></th>\n",
       "      <th>Unnamed: 0</th>\n",
       "      <th>time</th>\n",
       "      <th>dst_user</th>\n",
       "      <th>src_comp</th>\n",
       "      <th>dst_comp</th>\n",
       "      <th>auth_type</th>\n",
       "      <th>logon_type</th>\n",
       "      <th>auth_orientation</th>\n",
       "      <th>succ_fail</th>\n",
       "    </tr>\n",
       "  </thead>\n",
       "  <tbody>\n",
       "    <tr>\n",
       "      <th>0</th>\n",
       "      <td>0</td>\n",
       "      <td>726131</td>\n",
       "      <td>U9040</td>\n",
       "      <td>C19193</td>\n",
       "      <td>C625</td>\n",
       "      <td>Kerberos</td>\n",
       "      <td>Network</td>\n",
       "      <td>LogOn</td>\n",
       "      <td>Success</td>\n",
       "    </tr>\n",
       "    <tr>\n",
       "      <th>1</th>\n",
       "      <td>1</td>\n",
       "      <td>726131</td>\n",
       "      <td>U9093</td>\n",
       "      <td>C19290</td>\n",
       "      <td>C529</td>\n",
       "      <td>Kerberos</td>\n",
       "      <td>Network</td>\n",
       "      <td>LogOn</td>\n",
       "      <td>Success</td>\n",
       "    </tr>\n",
       "    <tr>\n",
       "      <th>2</th>\n",
       "      <td>2</td>\n",
       "      <td>726131</td>\n",
       "      <td>U9093</td>\n",
       "      <td>C19290</td>\n",
       "      <td>C586</td>\n",
       "      <td>Kerberos</td>\n",
       "      <td>Network</td>\n",
       "      <td>LogOn</td>\n",
       "      <td>Success</td>\n",
       "    </tr>\n",
       "    <tr>\n",
       "      <th>3</th>\n",
       "      <td>3</td>\n",
       "      <td>726131</td>\n",
       "      <td>U9136</td>\n",
       "      <td>C19359</td>\n",
       "      <td>C5618</td>\n",
       "      <td>NTLM</td>\n",
       "      <td>Network</td>\n",
       "      <td>LogOn</td>\n",
       "      <td>Success</td>\n",
       "    </tr>\n",
       "    <tr>\n",
       "      <th>4</th>\n",
       "      <td>4</td>\n",
       "      <td>726131</td>\n",
       "      <td>U9292</td>\n",
       "      <td>C19632</td>\n",
       "      <td>C2162</td>\n",
       "      <td>Kerberos</td>\n",
       "      <td>Network</td>\n",
       "      <td>LogOn</td>\n",
       "      <td>Success</td>\n",
       "    </tr>\n",
       "  </tbody>\n",
       "</table>\n",
       "</div>"
      ],
      "text/plain": [
       "   Unnamed: 0    time dst_user src_comp dst_comp auth_type logon_type  \\\n",
       "0           0  726131    U9040   C19193     C625  Kerberos    Network   \n",
       "1           1  726131    U9093   C19290     C529  Kerberos    Network   \n",
       "2           2  726131    U9093   C19290     C586  Kerberos    Network   \n",
       "3           3  726131    U9136   C19359    C5618      NTLM    Network   \n",
       "4           4  726131    U9292   C19632    C2162  Kerberos    Network   \n",
       "\n",
       "  auth_orientation succ_fail  \n",
       "0            LogOn   Success  \n",
       "1            LogOn   Success  \n",
       "2            LogOn   Success  \n",
       "3            LogOn   Success  \n",
       "4            LogOn   Success  "
      ]
     },
     "execution_count": 45,
     "metadata": {},
     "output_type": "execute_result"
    }
   ],
   "source": [
    "#Read in the cleaned up training/testing csv, also use auth4_train to inspect further\n",
    "auth4_train = pd.read_csv(\"auth4_training.csv\", nrows=50000)\n",
    "auth4_train.head()\n",
    "#auth4_validate.head()"
   ]
  },
  {
   "cell_type": "code",
   "execution_count": 46,
   "metadata": {},
   "outputs": [],
   "source": [
    "#drop the Unnamed index that was exported in Parse_Data2 notebook\n",
    "auth4_train1 = auth4_train.drop(columns=['Unnamed: 0'])\n"
   ]
  },
  {
   "cell_type": "code",
   "execution_count": 47,
   "metadata": {},
   "outputs": [
    {
     "data": {
      "text/html": [
       "<div>\n",
       "<style scoped>\n",
       "    .dataframe tbody tr th:only-of-type {\n",
       "        vertical-align: middle;\n",
       "    }\n",
       "\n",
       "    .dataframe tbody tr th {\n",
       "        vertical-align: top;\n",
       "    }\n",
       "\n",
       "    .dataframe thead th {\n",
       "        text-align: right;\n",
       "    }\n",
       "</style>\n",
       "<table border=\"1\" class=\"dataframe\">\n",
       "  <thead>\n",
       "    <tr style=\"text-align: right;\">\n",
       "      <th></th>\n",
       "      <th>time</th>\n",
       "      <th>dst_user</th>\n",
       "      <th>src_comp</th>\n",
       "      <th>dst_comp</th>\n",
       "      <th>auth_type</th>\n",
       "      <th>logon_type</th>\n",
       "      <th>auth_orientation</th>\n",
       "      <th>succ_fail_Success</th>\n",
       "    </tr>\n",
       "  </thead>\n",
       "  <tbody>\n",
       "    <tr>\n",
       "      <th>0</th>\n",
       "      <td>726131</td>\n",
       "      <td>U9040</td>\n",
       "      <td>C19193</td>\n",
       "      <td>C625</td>\n",
       "      <td>Kerberos</td>\n",
       "      <td>Network</td>\n",
       "      <td>LogOn</td>\n",
       "      <td>1</td>\n",
       "    </tr>\n",
       "    <tr>\n",
       "      <th>1</th>\n",
       "      <td>726131</td>\n",
       "      <td>U9093</td>\n",
       "      <td>C19290</td>\n",
       "      <td>C529</td>\n",
       "      <td>Kerberos</td>\n",
       "      <td>Network</td>\n",
       "      <td>LogOn</td>\n",
       "      <td>1</td>\n",
       "    </tr>\n",
       "    <tr>\n",
       "      <th>2</th>\n",
       "      <td>726131</td>\n",
       "      <td>U9093</td>\n",
       "      <td>C19290</td>\n",
       "      <td>C586</td>\n",
       "      <td>Kerberos</td>\n",
       "      <td>Network</td>\n",
       "      <td>LogOn</td>\n",
       "      <td>1</td>\n",
       "    </tr>\n",
       "    <tr>\n",
       "      <th>3</th>\n",
       "      <td>726131</td>\n",
       "      <td>U9136</td>\n",
       "      <td>C19359</td>\n",
       "      <td>C5618</td>\n",
       "      <td>NTLM</td>\n",
       "      <td>Network</td>\n",
       "      <td>LogOn</td>\n",
       "      <td>1</td>\n",
       "    </tr>\n",
       "    <tr>\n",
       "      <th>4</th>\n",
       "      <td>726131</td>\n",
       "      <td>U9292</td>\n",
       "      <td>C19632</td>\n",
       "      <td>C2162</td>\n",
       "      <td>Kerberos</td>\n",
       "      <td>Network</td>\n",
       "      <td>LogOn</td>\n",
       "      <td>1</td>\n",
       "    </tr>\n",
       "  </tbody>\n",
       "</table>\n",
       "</div>"
      ],
      "text/plain": [
       "     time dst_user src_comp dst_comp auth_type logon_type auth_orientation  \\\n",
       "0  726131    U9040   C19193     C625  Kerberos    Network            LogOn   \n",
       "1  726131    U9093   C19290     C529  Kerberos    Network            LogOn   \n",
       "2  726131    U9093   C19290     C586  Kerberos    Network            LogOn   \n",
       "3  726131    U9136   C19359    C5618      NTLM    Network            LogOn   \n",
       "4  726131    U9292   C19632    C2162  Kerberos    Network            LogOn   \n",
       "\n",
       "   succ_fail_Success  \n",
       "0                  1  \n",
       "1                  1  \n",
       "2                  1  \n",
       "3                  1  \n",
       "4                  1  "
      ]
     },
     "execution_count": 47,
     "metadata": {},
     "output_type": "execute_result"
    }
   ],
   "source": [
    "#Converts succ_fail to numeric where Success equals 1, fail equals 0\n",
    "auth4_train2 = pd.get_dummies(auth4_train1, columns=['succ_fail'], drop_first=True)\n",
    "auth4_train2.head()"
   ]
  },
  {
   "cell_type": "code",
   "execution_count": 48,
   "metadata": {
    "collapsed": true
   },
   "outputs": [],
   "source": [
    "target = auth4_train2['succ_fail_Success']\n",
    "target_names = [\"Success\", \"Failure\"]\n",
    "auth4_train3 = auth4_train2.drop(columns=['auth_orientation', 'succ_fail_Success'])"
   ]
  },
  {
   "cell_type": "code",
   "execution_count": 49,
   "metadata": {
    "scrolled": true
   },
   "outputs": [
    {
     "data": {
      "text/html": [
       "<div>\n",
       "<style scoped>\n",
       "    .dataframe tbody tr th:only-of-type {\n",
       "        vertical-align: middle;\n",
       "    }\n",
       "\n",
       "    .dataframe tbody tr th {\n",
       "        vertical-align: top;\n",
       "    }\n",
       "\n",
       "    .dataframe thead th {\n",
       "        text-align: right;\n",
       "    }\n",
       "</style>\n",
       "<table border=\"1\" class=\"dataframe\">\n",
       "  <thead>\n",
       "    <tr style=\"text-align: right;\">\n",
       "      <th></th>\n",
       "      <th>time</th>\n",
       "      <th>dst_user</th>\n",
       "      <th>src_comp</th>\n",
       "      <th>dst_comp</th>\n",
       "      <th>auth_type</th>\n",
       "      <th>logon_type</th>\n",
       "    </tr>\n",
       "  </thead>\n",
       "  <tbody>\n",
       "    <tr>\n",
       "      <th>0</th>\n",
       "      <td>726131</td>\n",
       "      <td>U9040</td>\n",
       "      <td>C19193</td>\n",
       "      <td>C625</td>\n",
       "      <td>Kerberos</td>\n",
       "      <td>Network</td>\n",
       "    </tr>\n",
       "    <tr>\n",
       "      <th>1</th>\n",
       "      <td>726131</td>\n",
       "      <td>U9093</td>\n",
       "      <td>C19290</td>\n",
       "      <td>C529</td>\n",
       "      <td>Kerberos</td>\n",
       "      <td>Network</td>\n",
       "    </tr>\n",
       "    <tr>\n",
       "      <th>2</th>\n",
       "      <td>726131</td>\n",
       "      <td>U9093</td>\n",
       "      <td>C19290</td>\n",
       "      <td>C586</td>\n",
       "      <td>Kerberos</td>\n",
       "      <td>Network</td>\n",
       "    </tr>\n",
       "    <tr>\n",
       "      <th>3</th>\n",
       "      <td>726131</td>\n",
       "      <td>U9136</td>\n",
       "      <td>C19359</td>\n",
       "      <td>C5618</td>\n",
       "      <td>NTLM</td>\n",
       "      <td>Network</td>\n",
       "    </tr>\n",
       "    <tr>\n",
       "      <th>4</th>\n",
       "      <td>726131</td>\n",
       "      <td>U9292</td>\n",
       "      <td>C19632</td>\n",
       "      <td>C2162</td>\n",
       "      <td>Kerberos</td>\n",
       "      <td>Network</td>\n",
       "    </tr>\n",
       "  </tbody>\n",
       "</table>\n",
       "</div>"
      ],
      "text/plain": [
       "     time dst_user src_comp dst_comp auth_type logon_type\n",
       "0  726131    U9040   C19193     C625  Kerberos    Network\n",
       "1  726131    U9093   C19290     C529  Kerberos    Network\n",
       "2  726131    U9093   C19290     C586  Kerberos    Network\n",
       "3  726131    U9136   C19359    C5618      NTLM    Network\n",
       "4  726131    U9292   C19632    C2162  Kerberos    Network"
      ]
     },
     "execution_count": 49,
     "metadata": {},
     "output_type": "execute_result"
    }
   ],
   "source": [
    "#Get dummies to convert categorical to numeric\n",
    "data = auth4_train3\n",
    "data.head()"
   ]
  },
  {
   "cell_type": "code",
   "execution_count": 50,
   "metadata": {},
   "outputs": [],
   "source": [
    "X = data\n",
    "y = target"
   ]
  },
  {
   "cell_type": "code",
   "execution_count": 51,
   "metadata": {
    "collapsed": true
   },
   "outputs": [],
   "source": [
    "from sklearn.model_selection import train_test_split\n",
    "from sklearn.preprocessing import OneHotEncoder\n",
    "from sklearn import preprocessing\n",
    "enc = OneHotEncoder(handle_unknown='ignore')\n",
    "X_train, X_test, y_train, y_test = train_test_split(X, y, random_state=0)"
   ]
  },
  {
   "cell_type": "code",
   "execution_count": 52,
   "metadata": {},
   "outputs": [
    {
     "data": {
      "text/plain": [
       "<37500x1078 sparse matrix of type '<class 'numpy.float64'>'\n",
       "\twith 225000 stored elements in Compressed Sparse Row format>"
      ]
     },
     "execution_count": 52,
     "metadata": {},
     "output_type": "execute_result"
    }
   ],
   "source": [
    "#Set up variables for use below\n",
    "import copy\n",
    "X_train_rare = copy.copy(X_train)\n",
    "X_test_rare = copy.copy(X_test)\n",
    "X_train_rare[\"test\"]=0\n",
    "X_test_rare[\"test\"]=1\n",
    "les = []\n",
    "\n",
    "#\n",
    "temp_df = pd.concat([X_train_rare,X_test_rare],axis=0)\n",
    "names = list(X_train_rare.columns.values)\n",
    "temp_df = pd.concat([X_train_rare,X_test_rare],axis=0)\n",
    "for i in names:\n",
    "    temp_df.loc[temp_df[i].value_counts()[temp_df[i]].values < 20, i] = \"RARE_VALUE\"\n",
    "for i in range(temp_df.shape[1]):\n",
    "    temp_df.iloc[:,i]=temp_df.iloc[:,i].astype('str')\n",
    "    #Below is where you pull back out your X_train and X_test\n",
    "X_train_rare = temp_df[temp_df[\"test\"]==\"0\"].iloc[:,:-1].values\n",
    "X_test_rare = temp_df[temp_df[\"test\"]==\"1\"].iloc[:,:-1].values\n",
    "#Apply preprocessing to X_train\n",
    "for i in range(X_train_rare.shape[1]):\n",
    "    le = preprocessing.LabelEncoder()\n",
    "    le.fit(temp_df.iloc[:,:-1].iloc[:, i])\n",
    "    les.append(le)\n",
    "    X_train_rare[:, i] = le.transform(X_train_rare[:, i])\n",
    "    X_test_rare[:, i] = le.transform(X_test_rare[:, i])\n",
    "enc.fit(X_train_rare)\n",
    "X_train_rare = enc.transform(X_train_rare)\n",
    "X_test_rare = enc.transform(X_test_rare)\n",
    "X_train_rare"
   ]
  },
  {
   "cell_type": "code",
   "execution_count": 53,
   "metadata": {
    "collapsed": true
   },
   "outputs": [],
   "source": [
    "from sklearn.neighbors import KNeighborsClassifier \n",
    "clf = KNeighborsClassifier(n_neighbors=2)"
   ]
  },
  {
   "cell_type": "code",
   "execution_count": 55,
   "metadata": {},
   "outputs": [
    {
     "data": {
      "text/plain": [
       "array([[0., 1.],\n",
       "       [0., 1.],\n",
       "       [0., 1.],\n",
       "       ...,\n",
       "       [0., 1.],\n",
       "       [0., 1.],\n",
       "       [0., 1.]])"
      ]
     },
     "execution_count": 55,
     "metadata": {},
     "output_type": "execute_result"
    }
   ],
   "source": [
    "\n",
    "clf.fit(X_train_rare, y_train)\n",
    "y_pred = clf.predict_proba(X_test_rare)\n",
    "y_pred"
   ]
  },
  {
   "cell_type": "code",
   "execution_count": 56,
   "metadata": {},
   "outputs": [
    {
     "name": "stdout",
     "output_type": "stream",
     "text": [
      "0.06472532244062427\n"
     ]
    }
   ],
   "source": [
    "from sklearn.metrics import log_loss\n",
    "print(log_loss(y_test,y_pred))"
   ]
  },
  {
   "cell_type": "code",
   "execution_count": 57,
   "metadata": {},
   "outputs": [
    {
     "name": "stdout",
     "output_type": "stream",
     "text": [
      "Test set predictions: [1 1 1 ... 1 1 1]\n"
     ]
    }
   ],
   "source": [
    "print(\"Test set predictions: {}\".format(clf.predict(X_test_rare)))\n"
   ]
  },
  {
   "cell_type": "code",
   "execution_count": 58,
   "metadata": {},
   "outputs": [
    {
     "name": "stdout",
     "output_type": "stream",
     "text": [
      "Test set accuracy:  0.99\n"
     ]
    }
   ],
   "source": [
    "print(\"Test set accuracy: {: .2f}\".format(clf.score(X_test_rare, y_test)))"
   ]
  },
  {
   "cell_type": "code",
   "execution_count": null,
   "metadata": {},
   "outputs": [],
   "source": []
  },
  {
   "cell_type": "code",
   "execution_count": null,
   "metadata": {
    "collapsed": true
   },
   "outputs": [],
   "source": []
  }
 ],
 "metadata": {
  "kernelspec": {
   "display_name": "Python [conda env:PythonDATA]",
   "language": "python",
   "name": "conda-env-PythonDATA-py"
  },
  "language_info": {
   "codemirror_mode": {
    "name": "ipython",
    "version": 3
   },
   "file_extension": ".py",
   "mimetype": "text/x-python",
   "name": "python",
   "nbconvert_exporter": "python",
   "pygments_lexer": "ipython3",
   "version": "3.6.3"
  }
 },
 "nbformat": 4,
 "nbformat_minor": 2
}
